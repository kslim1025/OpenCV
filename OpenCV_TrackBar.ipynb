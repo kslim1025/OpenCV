{
  "nbformat": 4,
  "nbformat_minor": 0,
  "metadata": {
    "colab": {
      "name": "OpenCV_TrackBar.ipynb",
      "provenance": [],
      "collapsed_sections": [],
      "history_visible": true,
      "authorship_tag": "ABX9TyN+mq62YAuPbMzBU8d41YUO",
      "include_colab_link": true
    },
    "kernelspec": {
      "name": "python3",
      "display_name": "Python 3"
    },
    "accelerator": "TPU"
  },
  "cells": [
    {
      "cell_type": "markdown",
      "metadata": {
        "id": "view-in-github",
        "colab_type": "text"
      },
      "source": [
        "<a href=\"https://colab.research.google.com/github/kslim1025/OpenCV/blob/main/OpenCV_TrackBar.ipynb\" target=\"_parent\"><img src=\"https://colab.research.google.com/assets/colab-badge.svg\" alt=\"Open In Colab\"/></a>"
      ]
    },
    {
      "cell_type": "code",
      "metadata": {
        "id": "7X33UMrVR1Nj",
        "outputId": "e5c0b740-39dc-4007-ed9f-39d0913be995",
        "colab": {
          "base_uri": "https://localhost:8080/",
          "height": 150
        }
      },
      "source": [
        "# OpenCV 라이브러리를 사용한 사과 이미지에 초록색 네모를 입력하기\n",
        "# ctrl+enter를 사용한 런타임가능\n",
        "# !nvidia-smi : 어떤 GPU를 사용하는지 확인가능한 명령어 \n",
        "#\n",
        "#from google.colab import drive\n",
        "#drive.mount('/content/drive/')\n",
        "\n",
        "try:\n",
        "  %tensorflow_version only exists in Colab\n",
        "  %tensorflow_version 2.x\n",
        "except Exception:\n",
        "  pass\n",
        "\n",
        "import numpy as np;\n",
        "import tensorflow as tf;\n",
        "import pandas as pd;\n",
        "import matplotlib.pyplot as plt;\n",
        "import math;\n",
        "import re;\n",
        "#import os\n",
        "#os.listdir('C:/Users/kslim/Desktop/')\n",
        "# OpenCV\n",
        "!apt-get -qq install -y libsm6 libxext6 && pip install -q -U opencv-python\n",
        "\n",
        "#!curl -o logo.png https://colab.research.google.com/img/colab_favicon_256px.png\n",
        "#!curl -o sunset.jpg https://t1.daumcdn.net/cfile/tistory/240814485574155029\n",
        "!curl -o apple.png https://i2.wp.com/ceklog.kindel.com/wp-content/uploads/2013/02/firefox_2018-07-10_07-50-11.png?resize=240%2C231\n",
        "#import os\n",
        "# os.environ[\"CUDA_VISIBLE_DEVICES\"] = \"1\"\n",
        "import cv2\n",
        "from google.colab.patches import cv2_imshow\n",
        "\n",
        "################################################################################\n",
        "\n",
        "#+-----------------------------------------------------------------------------+\n",
        "#| NVIDIA-SMI 450.66       Driver Version: 418.67       CUDA Version: 10.1     |\n",
        "#|-------------------------------+----------------------+----------------------+\n",
        "#| GPU  Name        Persistence-M| Bus-Id        Disp.A | Volatile Uncorr. ECC |\n",
        "#| Fan  Temp  Perf  Pwr:Usage/Cap|         Memory-Usage | GPU-Util  Compute M. |\n",
        "#|                               |                      |               MIG M. |\n",
        "#|===============================+======================+======================|\n",
        "#|   0  Tesla P100-PCIE...  Off  | 00000000:00:04.0 Off |                    0 |\n",
        "#| N/A   51C    P0    35W / 250W |   1581MiB / 16280MiB |      0%      Default |\n",
        "#|                               |                      |                 ERR! |\n",
        "#+-------------------------------+----------------------+----------------------+\n",
        "#                                                                               \n",
        "#+-----------------------------------------------------------------------------+\n",
        "#| Processes:                                                                  |\n",
        "#|  GPU   GI   CI        PID   Type   Process name                  GPU Memory |\n",
        "#|        ID   ID                                                   Usage      |\n",
        "#|=============================================================================|\n",
        "#|  No running processes found                                                 |\n",
        "#+-----------------------------------------------------------------------------+\n",
        "\n",
        "################################################################################\n",
        "\n",
        "#트랙바를 조정할 떄마다 실행되는 콜백함수\n",
        "def on_trackbar(x):\n",
        "  pass\n",
        "\n",
        "#namedWindow함수를 사용하여 트랙바를 붙일 윈도우를 생성해야합니다\n",
        "cv2.namedWindow('Hyunill')\n",
        "\n",
        "#트랙바 생성\n",
        "cv2.createTrackbar('lowthreshold','Hyunill',0,1000,on_trackbar)\n",
        "cv2.createTrackbar('high threshold','Hyunill',0,1000,on_trackbar)\n",
        "\n",
        "#트랙바 초기값생성\n",
        "cv2.setTrackbarPos('low threshold','Hyunill',50)\n",
        "cv2.setTrackbarPos('low threshold','Hyunill',150)\n",
        "\n",
        "#이미지를 그레이 스케일로 불러오기\n",
        "img_gray=cv2.imgread('apple.png',cv2.IMREAD_GRAYSCALE)\n",
        "\n",
        "#트랙바가 조정시 HYunill함수에 반영되도록 루프\n",
        "while(1):\n",
        "  #현재 트랙바 위치를 가져옴\n",
        "  low = cv2.getTrackbarPos('low threshold','Hyunill')\n",
        "  high = cv2.getTrackbarPos('high threshold','Hyunill')\n",
        "\n",
        "  #Hyunill함수의 실행결과를 화면에 보여줍니다\n",
        "  cv2_imshow('Hyunill',img_hyunill)\n",
        "\n",
        "  #ESC키를 누르면 루프에서 빠져나옴\n",
        "  if cv2.waitKey(1) & 0xFF == 27:\n",
        "    break\n",
        "\n",
        "  cv2.destroyAllWindows()"
      ],
      "execution_count": null,
      "outputs": [
        {
          "output_type": "stream",
          "text": [
            "Unknown TensorFlow version: only exists in Colab\n",
            "Currently selected TF version: 2.x\n",
            "Available versions:\n",
            " * 1.x\n",
            " * 2.x\n",
            "  % Total    % Received % Xferd  Average Speed   Time    Time     Time  Current\n",
            "                                 Dload  Upload   Total   Spent    Left  Speed\n",
            "100 21762  100 21762    0     0   186k      0 --:--:-- --:--:-- --:--:--  186k\n"
          ],
          "name": "stdout"
        }
      ]
    }
  ]
}