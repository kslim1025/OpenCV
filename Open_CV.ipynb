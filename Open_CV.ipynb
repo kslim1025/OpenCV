{
  "nbformat": 4,
  "nbformat_minor": 0,
  "metadata": {
    "colab": {
      "name": "Open_CV.ipynb",
      "provenance": [],
      "collapsed_sections": [],
      "authorship_tag": "ABX9TyNhIeYlWYKNvvTm0LJs/45A",
      "include_colab_link": true
    },
    "kernelspec": {
      "name": "python3",
      "display_name": "Python 3"
    }
  },
  "cells": [
    {
      "cell_type": "markdown",
      "metadata": {
        "id": "view-in-github",
        "colab_type": "text"
      },
      "source": [
        "<a href=\"https://colab.research.google.com/github/kslim1025/OpenCV/blob/main/Open_CV.ipynb\" target=\"_parent\"><img src=\"https://colab.research.google.com/assets/colab-badge.svg\" alt=\"Open In Colab\"/></a>"
      ]
    },
    {
      "cell_type": "code",
      "metadata": {
        "id": "7X33UMrVR1Nj",
        "outputId": "6e07551b-7ba4-489b-a24f-a7052428506e",
        "colab": {
          "base_uri": "https://localhost:8080/",
          "height": 51
        }
      },
      "source": [
        "# MNIST 문자열 분석으로 유명한 데이터셋이 패션에 관한 데이터 세트를 만듬 그게 FashionMINIST 데이터셋이다.\n",
        "# 데이터 이미지가 0에서 255까지 값을 가지는 28x28이미지라는 것을 확인가능\n",
        "# 정답이 되는 라벨을 확인하기 위해 print를 붙여서  확인\n",
        "# 외부 데이터를 이용한 정제과정\n",
        "# ctrl+enter를 사용한 런타임가능\n",
        "# !nvidia-smi : 어떤 GPU를 사용하는지 확인가능한 명령어 \n",
        "#\n",
        "\n",
        "try:\n",
        "  # %tensorflow_version only exists in Colab\n",
        "  %tensorflow_version 2.x\n",
        "except Exception:\n",
        "  pass\n",
        "\n",
        "# 넘파이는 수학과 과학 연산에 특화된 파이썬 모듈로 딥러닝에서도 유용하게 사용된다.\n",
        "\n",
        "import numpy as np;\n",
        "import tensorflow as tf;\n",
        "import pandas as pd;\n",
        "import matplotlib.pyplot as plt;\n",
        "import math;\n",
        "import re;\n",
        "################################################################################\n",
        "!pip install opencv-python\n",
        "#!nvidia-smi\n",
        "       \n",
        "#+-----------------------------------------------------------------------------+\n",
        "#| NVIDIA-SMI 450.66       Driver Version: 418.67       CUDA Version: 10.1     |\n",
        "#|-------------------------------+----------------------+----------------------+\n",
        "#| GPU  Name        Persistence-M| Bus-Id        Disp.A | Volatile Uncorr. ECC |\n",
        "#| Fan  Temp  Perf  Pwr:Usage/Cap|         Memory-Usage | GPU-Util  Compute M. |\n",
        "#|                               |                      |               MIG M. |\n",
        "#|===============================+======================+======================|\n",
        "#|   0  Tesla P100-PCIE...  Off  | 00000000:00:04.0 Off |                    0 |\n",
        "#| N/A   51C    P0    35W / 250W |   1581MiB / 16280MiB |      0%      Default |\n",
        "#|                               |                      |                 ERR! |\n",
        "#+-------------------------------+----------------------+----------------------+\n",
        "#                                                                               \n",
        "#+-----------------------------------------------------------------------------+\n",
        "#| Processes:                                                                  |\n",
        "#|  GPU   GI   CI        PID   Type   Process name                  GPU Memory |\n",
        "#|        ID   ID                                                   Usage      |\n",
        "#|=============================================================================|\n",
        "#|  No running processes found                                                 |\n",
        "#+-----------------------------------------------------------------------------+\n",
        "\n",
        "################################################################################\n",
        "\n",
        "import cv2\n",
        "\n",
        "img_color = cv2.imread(\"test.jpg\", cv2.IMREAD_COLOR)\n",
        "\n",
        "if img_color is None:\n",
        "  print(\"이미지파일 읽을 수 없습니다\")\n",
        "  exit(1)\n",
        "\n",
        "cv2.namedWindow('Color')\n",
        "cv2.imshow('Color', img_color)\n",
        "\n",
        "cv2.waitKey(0)\n",
        "cv2.destroyAllWindows()\n"
      ],
      "execution_count": null,
      "outputs": [
        {
          "output_type": "stream",
          "text": [
            "Requirement already satisfied: opencv-python in /usr/local/lib/python3.6/dist-packages (4.1.2.30)\n",
            "Requirement already satisfied: numpy>=1.11.3 in /usr/local/lib/python3.6/dist-packages (from opencv-python) (1.18.5)\n"
          ],
          "name": "stdout"
        }
      ]
    }
  ]
}